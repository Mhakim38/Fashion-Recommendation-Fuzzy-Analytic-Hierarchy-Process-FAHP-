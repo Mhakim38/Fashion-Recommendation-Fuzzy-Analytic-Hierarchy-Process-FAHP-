{
 "cells": [
  {
   "cell_type": "code",
   "execution_count": 1,
   "id": "923fd30a",
   "metadata": {},
   "outputs": [],
   "source": [
    "import numpy as np\n",
    "import pandas as pd\n",
    "import os as os\n",
    "import streamlit as st"
   ]
  },
  {
   "cell_type": "code",
   "execution_count": 2,
   "id": "cb35a582",
   "metadata": {},
   "outputs": [
    {
     "name": "stdout",
     "output_type": "stream",
     "text": [
      "True\n"
     ]
    }
   ],
   "source": [
    "file_path = r'C:\\Users\\hakim\\Desktop\\UiTM\\2. Degree\\sem 6\\CSP 650\\Project Code\\Dataset\\styles.csv'\n",
    "print(os.path.exists(file_path))"
   ]
  },
  {
   "cell_type": "markdown",
   "id": "707b8c3b",
   "metadata": {},
   "source": [
    "1. import lib numpy as *np*\n",
    "2. import pandas numpy as *pd*\n",
    "\n",
    "*Checking file path....(cell 2)"
   ]
  },
  {
   "cell_type": "markdown",
   "id": "54e3581b",
   "metadata": {},
   "source": [
    "# Preprocess Data (Define Fuzzy)"
   ]
  },
  {
   "cell_type": "code",
   "execution_count": 3,
   "id": "3e85a060",
   "metadata": {},
   "outputs": [
    {
     "name": "stdout",
     "output_type": "stream",
     "text": [
      "Number of duplicate rows removed: 0\n",
      "Number of NaN values replaced by 'NULL': 0\n",
      " \n",
      "      Usage_Fuzzy Gender_Fuzzy   Color_Fuzzy\n",
      "0       (1, 1, 2)    (1, 1, 2)  (11, 12, 13)\n",
      "1       (1, 1, 2)    (1, 1, 2)     (2, 3, 4)\n",
      "2       (1, 1, 2)    (2, 3, 4)           NaN\n",
      "3       (1, 1, 2)    (1, 1, 2)     (1, 1, 2)\n",
      "4       (1, 1, 2)    (1, 1, 2)     (6, 7, 8)\n",
      "...           ...          ...           ...\n",
      "44441   (1, 1, 2)    (1, 1, 2)  (18, 19, 20)\n",
      "44442   (1, 1, 2)    (1, 1, 2)  (16, 17, 18)\n",
      "44443   (1, 1, 2)    (1, 1, 2)     (2, 3, 4)\n",
      "44444   (1, 1, 2)    (2, 3, 4)     (2, 3, 4)\n",
      "44445   (1, 1, 2)    (2, 3, 4)  (14, 15, 16)\n",
      "\n",
      "[44446 rows x 3 columns]\n"
     ]
    }
   ],
   "source": [
    "# Example: define fuzzy mappings for Price, Comfort, and Color\n",
    "usage_fuzzy_map = {\n",
    "    'Casual': (1, 1, 2),           # Casual: Lower bound = 1, Most likely = 1, Upper bound = 2\n",
    "    'Sports': (1, 2, 3),           # Sports: Lower bound = 1, Most likely = 2, Upper bound = 3\n",
    "    'Ethnic': (2, 3, 4),           # Ethnic: Lower bound = 2, Most likely = 3, Upper bound = 4\n",
    "    'Formal': (3, 4, 5),           # Formal: Lower bound = 3, Most likely = 4, Upper bound = 5\n",
    "    'Smart Casual': (4, 5, 6),     # Smart Casual: Lower bound = 4, Most likely = 5, Upper bound = 6\n",
    "    'Party': (5, 6, 7),            # Party: Lower bound = 5, Most likely = 6, Upper bound = 7\n",
    "    'Travel': (6, 7, 8),           # Travel: Lower bound = 6, Most likely = 7, Upper bound = 8\n",
    "    'Home': (7, 8, 9)              # Home: Lower bound = 7, Most likely = 8, Upper bound = 9\n",
    "}\n",
    "\n",
    "gender_fuzzy_map = {\n",
    "    \"Men\": (1, 1, 2),              # Men: Lower bound = 1, Most likely = 1, Upper bound = 2\n",
    "    \"Women\": (2, 3, 4),            # Women: Lower bound = 2, Most likely = 3, Upper bound = 4\n",
    "    \"Boys\": (2, 3, 4),             # Boys: Lower bound = 2, Most likely = 3, Upper bound = 4\n",
    "    \"Girls\": (3, 4, 5),            # Girls: Lower bound = 3, Most likely = 4, Upper bound = 5\n",
    "    \"Unisex\": (4, 5, 6)            # Unisex: Lower bound = 4, Most likely = 5, Upper bound = 6\n",
    "}\n",
    "\n",
    "color_fuzzy_map = {\n",
    "    'Black': (1, 1, 2),\n",
    "    'Blue': (2, 3, 4),\n",
    "    'Brown': (3, 4, 5),\n",
    "    'Gold': (4, 5, 6),\n",
    "    'Green': (5, 6, 7),\n",
    "    'Grey': (6, 7, 8),\n",
    "    'Khaki': (7, 8, 9),\n",
    "    'Lavender': (8, 9, 10),\n",
    "    'Magenta': (9, 10, 11),\n",
    "    'Maroon': (10, 11, 12),\n",
    "    'Navy Blue': (11, 12, 13),\n",
    "    'Orange': (12, 13, 14),\n",
    "    'Peach': (13, 14, 15),\n",
    "    'Pink': (14, 15, 16),\n",
    "    'Purple': (15, 16, 17),\n",
    "    'Red': (16, 17, 18),\n",
    "    'Turquoise Blue': (17, 18, 19),\n",
    "    'White': (18, 19, 20),\n",
    "    'Yellow': (19, 20, 21)\n",
    "}\n",
    "\n",
    "\n",
    "\n",
    "# Function to load, process the dataset, and save to a new file\n",
    "def load_and_process_data(file_path, output_file):\n",
    "    # Load the dataset from a CSV file\n",
    "    df = pd.read_csv(file_path)\n",
    "    \n",
    "##-----------------Preprocess Data------------    \n",
    "    # Drop unnamed columns\n",
    "    df = df.loc[:, ~df.columns.str.contains('^Unnamed')]\n",
    "   \n",
    "\n",
    "    # Count duplicates based on 'id' and 'productDisplayName' before removal\n",
    "    duplicates_count = df.duplicated(subset=['id', 'productDisplayName']).sum()\n",
    "    print(f\"Number of duplicate rows removed: {duplicates_count}\")\n",
    "    \n",
    "    # Remove duplicates based on 'id' and 'productDisplayName'\n",
    "    df = df.drop_duplicates(subset=['id', 'productDisplayName'])\n",
    "\n",
    "##-----------------Preprocess Data-------------   \n",
    "    \n",
    "    df['Usage_Fuzzy'] = df['usage'].map(usage_fuzzy_map)\n",
    "    df['Gender_Fuzzy'] = df['gender'].map(gender_fuzzy_map)\n",
    "    df['Color_Fuzzy'] = df['baseColour'].map(color_fuzzy_map)\n",
    "    \n",
    "    # Replace null values with 'NULL' in all columns except the fuzzy-mapped columns\n",
    "    Replace_Null = df.columns.difference(['Usage_Fuzzy', 'Gender_Fuzzy', 'Color_Fuzzy'])\n",
    "    df[Replace_Null] = df[Replace_Null].fillna('NULL')\n",
    "    Count_Null = df[Replace_Null].isna().sum().sum()\n",
    "    print(f\"Number of NaN values replaced by 'NULL': {Count_Null}\")\n",
    "    print(\" \")\n",
    "\n",
    "    # Save the processed DataFrame with all original columns plus Color_Fuzzy\n",
    "    df.to_csv(output_file, index=False)\n",
    "\n",
    "    return df\n",
    "\n",
    "# Example usage\n",
    "file_path = r'C:\\Users\\hakim\\Desktop\\UiTM\\2. Degree\\sem 6\\CSP 650\\Project Code\\Dataset\\styles.csv'  # Input file path\n",
    "output_file = r'C:\\Users\\hakim\\Desktop\\UiTM\\2. Degree\\sem 6\\CSP 650\\Project Code\\Dataset\\processed_styles.csv'  # Output file path\n",
    "\n",
    "processed_data = load_and_process_data(file_path, output_file)\n",
    "\n",
    "# Display the fuzzy numbers for each criterion\n",
    "print(processed_data[['Usage_Fuzzy', 'Gender_Fuzzy', 'Color_Fuzzy']])"
   ]
  },
  {
   "cell_type": "markdown",
   "id": "ed2ae44d",
   "metadata": {},
   "source": [
    "2. This cell is to define those data in the dataset and convert it into Fuzzy number\n",
    "\n",
    "ex: Item 1 (Price: RM 50, Style: 7 and comfort: 8)\n",
    "* The Style and comfort is a scale from 1-10, so the input must be the same....\n",
    "* criteria chosen is price, color, usage (Casual, Formal, sports....), gender"
   ]
  },
  {
   "cell_type": "markdown",
   "id": "5cb3bad9",
   "metadata": {},
   "source": [
    "## Split Data 80% (training) 20% (Testing)"
   ]
  },
  {
   "cell_type": "code",
   "execution_count": 4,
   "id": "0db01dc2",
   "metadata": {},
   "outputs": [
    {
     "name": "stdout",
     "output_type": "stream",
     "text": [
      "Training data: 35556 rows\n",
      "Testing data: 8890 rows\n"
     ]
    }
   ],
   "source": [
    "# Step 2: Define Pairwise Comparison Matrix for Criteria (User Input)\n",
    "# The user compares each criterion in pairs (Price vs Style, Price vs Comfort, etc.)\n",
    "\n",
    "#SPLIT DATA 80% AND 20%\n",
    "import random\n",
    "\n",
    "# Load the processed data\n",
    "file_path = r'C:\\Users\\hakim\\Desktop\\UiTM\\2. Degree\\sem 6\\CSP 650\\Project Code\\Dataset\\processed_styles.csv'\n",
    "data = pd.read_csv(file_path)\n",
    "\n",
    "# Shuffle the data\n",
    "data = data.sample(frac=1, random_state=42).reset_index(drop=True)  # `frac=1` means shuffle all rows\n",
    "\n",
    "# Define the split ratio\n",
    "split_ratio = 0.8  # 80% training, 20% testing\n",
    "split_index = int(len(data) * split_ratio)\n",
    "\n",
    "# Split the data manually\n",
    "train_data = data[:split_index]\n",
    "test_data = data[split_index:]\n",
    "\n",
    "# Save the training and test datasets (optional)\n",
    "train_data.to_csv('training_data.csv', index=False)\n",
    "test_data.to_csv('testing_data.csv', index=False)\n",
    "\n",
    "# Print the number of records in each set\n",
    "print(f\"Training data: {len(train_data)} rows\")\n",
    "print(f\"Testing data: {len(test_data)} rows\")\n"
   ]
  },
  {
   "cell_type": "markdown",
   "id": "71b8b601",
   "metadata": {},
   "source": [
    "## Define Pairwise Comparison \"matrix\" (For performance evaluation only)"
   ]
  },
  {
   "attachments": {
    "comparison.png": {
     "image/png": "[encoded data removed]"
    }
   },
   "cell_type": "markdown",
   "id": "0917b430",
   "metadata": {},
   "source": [
    "![comparison.png](attachment:comparison.png)"
   ]
  },
  {
   "cell_type": "markdown",
   "id": "a16a108a",
   "metadata": {},
   "source": [
    "3. This cell is to get input from user for pairwise comparison between the dataset and the input. \n",
    "    \n",
    "    * all data collected needed to convert into Fuzzy number. (Text also need to be convert)\n",
    "    * Fuzzy: The comparison between the criteria in needed as it is a form of Fuzzy (Price vs Price, Price vs Style, Price vs Comfort)\n",
    "    \n",
    "    **This shows on how important those questions to user between the criteria/attribute** \n",
    "    * AHP: Givng the expantion of not using a whole number such as 1-10 and 1.5, 2.8, 5.2 etc... is possible\n",
    "    * The image above shows the pairwise comparison between those criteria/attribute (Added color)\n",
    "Therefore, Fuzzy Analytic Hierarchy Process (FAHP) is done... "
   ]
  },
  {
   "cell_type": "code",
   "execution_count": 5,
   "id": "f1a6058d",
   "metadata": {},
   "outputs": [
    {
     "name": "stdout",
     "output_type": "stream",
     "text": [
      "Comparison Matrix (Hakim)\n",
      "[[1.         3.         0.33333333]\n",
      " [0.33333333 1.         0.2       ]\n",
      " [3.         5.         1.        ]]\n"
     ]
    }
   ],
   "source": [
    "# Example Pairwise Comparison Matrix for Usage, Gender, Color\n",
    "print(\"Comparison Matrix (Hakim)\")\n",
    "pairwise_matrix = np.array([\n",
    "    [1, 3, 1/3],  # usage vs usage , usage vs gender, usage vs Color\n",
    "    [1/3, 1, 1/5],  # Gender vs usage, Gender vs gender, gender vs color \n",
    "    [3, 5, 1]   # Color vs usage, Color vs gender, Color vs Color\n",
    "])\n",
    "\n",
    "\n",
    "# Show the matrix\n",
    "print(pairwise_matrix)"
   ]
  },
  {
   "cell_type": "markdown",
   "id": "a8c97ff8",
   "metadata": {},
   "source": [
    "### 1. Sum up each column and nomalize it"
   ]
  },
  {
   "cell_type": "code",
   "execution_count": 6,
   "id": "34be2165",
   "metadata": {},
   "outputs": [
    {
     "name": "stdout",
     "output_type": "stream",
     "text": [
      "\n",
      "Column Sums:\n",
      "[4.333333333333333, 9.0, 1.5333333333333332]\n",
      "\n",
      "Normalized Matrix:\n",
      "[[0.23076923 0.33333333 0.2173913 ]\n",
      " [0.07692308 0.11111111 0.13043478]\n",
      " [0.69230769 0.55555556 0.65217391]]\n"
     ]
    }
   ],
   "source": [
    "# Step 1: Calculate column sums using a loop\n",
    "col_sums = []\n",
    "for col in range(pairwise_matrix.shape[1]):\n",
    "    column_sum = 0\n",
    "    for row in range(pairwise_matrix.shape[0]):\n",
    "        column_sum += pairwise_matrix[row, col]\n",
    "    col_sums.append(column_sum)\n",
    "    \n",
    "print(\"\\nColumn Sums:\")\n",
    "print(col_sums)\n",
    "\n",
    "# Step 2: Normalize the matrix by dividing each element in the column by the column's sum using a loop\n",
    "normalized_matrix = np.zeros_like(pairwise_matrix, dtype=float)\n",
    "for i in range(pairwise_matrix.shape[0]):  # Loop over rows\n",
    "    for j in range(pairwise_matrix.shape[1]):  # Loop over columns\n",
    "        normalized_matrix[i, j] = pairwise_matrix[i, j] / col_sums[j]\n",
    "        \n",
    "print(\"\\nNormalized Matrix:\")\n",
    "print(normalized_matrix)"
   ]
  },
  {
   "cell_type": "markdown",
   "id": "5fc3f837",
   "metadata": {},
   "source": [
    "### 2. calculate Fuzzy Weight (row)"
   ]
  },
  {
   "cell_type": "code",
   "execution_count": 7,
   "id": "1122ff9e",
   "metadata": {
    "scrolled": true
   },
   "outputs": [
    {
     "name": "stdout",
     "output_type": "stream",
     "text": [
      "\n",
      "Fuzzy Weights (Average of Each Row):\n",
      "[0.26049795615013005, 0.1061563235476279, 0.633345720302242]\n"
     ]
    }
   ],
   "source": [
    "# Step 3: Calculate the fuzzy weights by averaging each row in the normalized matrix using a loop\n",
    "fuzzy_weights = []\n",
    "for i in range(normalized_matrix.shape[0]):\n",
    "    row_sum = 0\n",
    "    for j in range(normalized_matrix.shape[1]):\n",
    "        row_sum += normalized_matrix[i, j]\n",
    "    fuzzy_weights.append(row_sum / normalized_matrix.shape[1])\n",
    "    \n",
    "print(\"\\nFuzzy Weights (Average of Each Row):\")\n",
    "print(fuzzy_weights)"
   ]
  },
  {
   "cell_type": "markdown",
   "id": "3c8b27fb",
   "metadata": {},
   "source": [
    "### 3. Defuzzification (Crisp Value)"
   ]
  },
  {
   "cell_type": "code",
   "execution_count": 13,
   "id": "f101c1ab",
   "metadata": {},
   "outputs": [
    {
     "name": "stdout",
     "output_type": "stream",
     "text": [
      "Defuzzified Price Weight: 0.5\n",
      "Defuzzified Style Weight: 0.6\n",
      "Defuzzified Comfort Weight: 0.4666666666666667\n"
     ]
    }
   ],
   "source": [
    "## Defuzzification function\n",
    "def defuzzify(fuzzy_weights):\n",
    "    # Fuzzy values are in the form of (L, M, R) (Lower, Middle, Upper)\n",
    "    L, M, R = fuzzy_weights\n",
    "    crisp_value = (L + 4 * M + R) / 60\n",
    "    return crisp_value\n",
    "\n",
    "# Step 5: Define fuzzy weights for Price, Style, Comfort (for example purposes)\n",
    "# Assuming fuzzy values for Price, Style, Comfort are as below:\n",
    "fuzzy_usage_weight = (3, 5, 7)  # Example: Price fuzzy values (L, M, R)\n",
    "fuzzy_gender_weight = (4, 6, 8)  # Example: Style fuzzy values (L, M, R)\n",
    "fuzzy_color_weight = (2, 5, 6)  # Example: Comfort fuzzy values (L, M, R)\n",
    "\n",
    "# Defuzzifying the fuzzy weights\n",
    "defuzzified_usage_weight = defuzzify(fuzzy_usage_weight)\n",
    "defuzzified_gender_weight = defuzzify(fuzzy_gender_weight)\n",
    "defuzzified_color_weight = defuzzify(fuzzy_color_weight)\n",
    "\n",
    "print(\"Defuzzified Price Weight:\", defuzzified_usage_weight)\n",
    "print(\"Defuzzified Style Weight:\", defuzzified_gender_weight)\n",
    "print(\"Defuzzified Comfort Weight:\", defuzzified_color_weight)"
   ]
  },
  {
   "cell_type": "markdown",
   "id": "4ccfdee4",
   "metadata": {},
   "source": [
    "### Calculate ranking scores (Dataset) and Recommends"
   ]
  },
  {
   "cell_type": "code",
   "execution_count": 15,
   "id": "2e5a15e7",
   "metadata": {},
   "outputs": [
    {
     "ename": "KeyError",
     "evalue": "'Usage_Fuzzy'",
     "output_type": "error",
     "traceback": [
      "\u001b[1;31m---------------------------------------------------------------------------\u001b[0m",
      "\u001b[1;31mKeyError\u001b[0m                                  Traceback (most recent call last)",
      "Cell \u001b[1;32mIn[15], line 24\u001b[0m\n\u001b[0;32m     21\u001b[0m color_fuzzy \u001b[38;5;241m=\u001b[39m row[\u001b[38;5;124m'\u001b[39m\u001b[38;5;124mColor_Fuzzy\u001b[39m\u001b[38;5;124m'\u001b[39m]\n\u001b[0;32m     23\u001b[0m \u001b[38;5;66;03m# Apply weights to each fuzzy number\u001b[39;00m\n\u001b[1;32m---> 24\u001b[0m weighted_price \u001b[38;5;241m=\u001b[39m \u001b[38;5;28;43mtuple\u001b[39;49m\u001b[43m(\u001b[49m\u001b[43mw\u001b[49m\u001b[43m \u001b[49m\u001b[38;5;241;43m*\u001b[39;49m\u001b[43m \u001b[49m\u001b[43mdefuzzified_weights\u001b[49m\u001b[43m[\u001b[49m\u001b[38;5;124;43m'\u001b[39;49m\u001b[38;5;124;43mUsage_Fuzzy\u001b[39;49m\u001b[38;5;124;43m'\u001b[39;49m\u001b[43m]\u001b[49m\u001b[43m \u001b[49m\u001b[38;5;28;43;01mfor\u001b[39;49;00m\u001b[43m \u001b[49m\u001b[43mw\u001b[49m\u001b[43m \u001b[49m\u001b[38;5;129;43;01min\u001b[39;49;00m\u001b[43m \u001b[49m\u001b[43musage_fuzzy\u001b[49m\u001b[43m)\u001b[49m\n\u001b[0;32m     25\u001b[0m weighted_style \u001b[38;5;241m=\u001b[39m \u001b[38;5;28mtuple\u001b[39m(w \u001b[38;5;241m*\u001b[39m defuzzified_weights[\u001b[38;5;124m'\u001b[39m\u001b[38;5;124mGender_Fuzzy\u001b[39m\u001b[38;5;124m'\u001b[39m] \u001b[38;5;28;01mfor\u001b[39;00m w \u001b[38;5;129;01min\u001b[39;00m gender_fuzzy)\n\u001b[0;32m     26\u001b[0m weighted_comfort \u001b[38;5;241m=\u001b[39m \u001b[38;5;28mtuple\u001b[39m(w \u001b[38;5;241m*\u001b[39m defuzzified_weights[\u001b[38;5;124m'\u001b[39m\u001b[38;5;124mColor_Fuzzy\u001b[39m\u001b[38;5;124m'\u001b[39m] \u001b[38;5;28;01mfor\u001b[39;00m w \u001b[38;5;129;01min\u001b[39;00m color_fuzzy)\n",
      "Cell \u001b[1;32mIn[15], line 24\u001b[0m, in \u001b[0;36m<genexpr>\u001b[1;34m(.0)\u001b[0m\n\u001b[0;32m     21\u001b[0m color_fuzzy \u001b[38;5;241m=\u001b[39m row[\u001b[38;5;124m'\u001b[39m\u001b[38;5;124mColor_Fuzzy\u001b[39m\u001b[38;5;124m'\u001b[39m]\n\u001b[0;32m     23\u001b[0m \u001b[38;5;66;03m# Apply weights to each fuzzy number\u001b[39;00m\n\u001b[1;32m---> 24\u001b[0m weighted_price \u001b[38;5;241m=\u001b[39m \u001b[38;5;28mtuple\u001b[39m(w \u001b[38;5;241m*\u001b[39m \u001b[43mdefuzzified_weights\u001b[49m\u001b[43m[\u001b[49m\u001b[38;5;124;43m'\u001b[39;49m\u001b[38;5;124;43mUsage_Fuzzy\u001b[39;49m\u001b[38;5;124;43m'\u001b[39;49m\u001b[43m]\u001b[49m \u001b[38;5;28;01mfor\u001b[39;00m w \u001b[38;5;129;01min\u001b[39;00m usage_fuzzy)\n\u001b[0;32m     25\u001b[0m weighted_style \u001b[38;5;241m=\u001b[39m \u001b[38;5;28mtuple\u001b[39m(w \u001b[38;5;241m*\u001b[39m defuzzified_weights[\u001b[38;5;124m'\u001b[39m\u001b[38;5;124mGender_Fuzzy\u001b[39m\u001b[38;5;124m'\u001b[39m] \u001b[38;5;28;01mfor\u001b[39;00m w \u001b[38;5;129;01min\u001b[39;00m gender_fuzzy)\n\u001b[0;32m     26\u001b[0m weighted_comfort \u001b[38;5;241m=\u001b[39m \u001b[38;5;28mtuple\u001b[39m(w \u001b[38;5;241m*\u001b[39m defuzzified_weights[\u001b[38;5;124m'\u001b[39m\u001b[38;5;124mColor_Fuzzy\u001b[39m\u001b[38;5;124m'\u001b[39m] \u001b[38;5;28;01mfor\u001b[39;00m w \u001b[38;5;129;01min\u001b[39;00m color_fuzzy)\n",
      "\u001b[1;31mKeyError\u001b[0m: 'Usage_Fuzzy'"
     ]
    }
   ],
   "source": [
    "# Step 1: Define defuzzified weights (replace these with your calculated defuzzified weights)\n",
    "defuzzified_weights = {\n",
    "    'Usage':  defuzzified_usage_weight,      # Example weight for Price\n",
    "    'Gender': defuzzified_gender_weight,      # Example weight for Style\n",
    "    'Color': defuzzified_color_weight     # Example weight for Comfort\n",
    "}\n",
    "\n",
    "# Step 2: Load Preprocessed Dataset with Fuzzy Values (Usage, gener and color)\n",
    "\n",
    "file_path = r'C:\\Users\\hakim\\Desktop\\UiTM\\2. Degree\\sem 6\\CSP 650\\Project Code\\Dataset\\processed_styles.csv'  # Path to your preprocessed dataset\n",
    "df = pd.read_csv(file_path)\n",
    "df = pd.DataFrame(data)\n",
    "\n",
    "# Step 3: Apply Defuzzified Weights to Each Criterion\n",
    "weighted_fuzzy_scores = []\n",
    "\n",
    "for index, row in df.iterrows():\n",
    "    # Extract fuzzy values for each criterion\n",
    "    usage_fuzzy = row['Usage_Fuzzy']\n",
    "    gender_fuzzy = row['Gender_Fuzzy']\n",
    "    color_fuzzy = row['Color_Fuzzy']\n",
    "    \n",
    "    # Apply weights to each fuzzy number\n",
    "    weighted_price = tuple(w * defuzzified_weights['Usage_Fuzzy'] for w in usage_fuzzy)\n",
    "    weighted_style = tuple(w * defuzzified_weights['Gender_Fuzzy'] for w in gender_fuzzy)\n",
    "    weighted_comfort = tuple(w * defuzzified_weights['Color_Fuzzy'] for w in color_fuzzy)\n",
    "    \n",
    "    # Combine weighted fuzzy scores element-wise\n",
    "    combined_fuzzy = tuple(\n",
    "        weighted_price[i] + weighted_style[i] + weighted_comfort[i]\n",
    "        for i in range(3)  # L, M, R positions\n",
    "    )\n",
    "    \n",
    "    # Defuzzify the combined fuzzy score\n",
    "    crisp_score = defuzzify(combined_fuzzy)\n",
    "    weighted_fuzzy_scores.append(crisp_score)\n",
    "\n",
    "# Step 4: Add Defuzzified Scores to the DataFrame\n",
    "df['Defuzzified_Score'] = weighted_fuzzy_scores\n",
    "\n",
    "# Step 5: Rank Items Based on Defuzzified Scores\n",
    "df = df.sort_values(by='Defuzzified_Score', ascending=False).reset_index(drop=True)\n",
    "\n",
    "# Display the Final Recommendation\n",
    "print(\"Final Recommendations Based on Defuzzified Scores:\")\n",
    "print(df[['Item', 'Defuzzified_Score']])\n"
   ]
  },
  {
   "cell_type": "markdown",
   "id": "944fb965",
   "metadata": {},
   "source": [
    "4. This cell shows the weights that are calculated into Fuzzy number from the user input from (3)\n",
    "\n",
    "the explaination for the calculation are later on...."
   ]
  },
  {
   "cell_type": "code",
   "execution_count": null,
   "id": "f1732ac6",
   "metadata": {},
   "outputs": [],
   "source": [
    "# Step 4: Apply the FAHP Weights to the Alternatives\n",
    "def rank_alternatives(alternatives, criteria_weights):\n",
    "    scores = {}\n",
    "    for item, attributes in alternatives.items():\n",
    "        score = 0\n",
    "        for i, criterion in enumerate(criteria):\n",
    "            score += attributes[criterion] * criteria_weights[i]  # Weighted score based on user-defined weights\n",
    "        scores[item] = score\n",
    "    return scores"
   ]
  },
  {
   "cell_type": "markdown",
   "id": "66cd18d3",
   "metadata": {},
   "source": [
    "5. This cell is for applying the weight (input) that have been calculated into the dataset"
   ]
  },
  {
   "cell_type": "code",
   "execution_count": null,
   "id": "19fafcbb",
   "metadata": {},
   "outputs": [],
   "source": [
    "# Rank fashion items based on criteria weights\n",
    "ranked_items = rank_alternatives(Dataset, weights)\n",
    "ranked_items = sorted(ranked_items.items(), key=lambda x: x[1], reverse=True)\n",
    "\n",
    "print(\"\\nRanked Items (from best to worst):\")\n",
    "for item, score in ranked_items:\n",
    "    print(f\"{item}: {score:.2f}\")"
   ]
  },
  {
   "cell_type": "markdown",
   "id": "6261de1b",
   "metadata": {},
   "source": [
    "5. This cell is for the ranking (recommended items) and the output"
   ]
  },
  {
   "cell_type": "markdown",
   "id": "26032f65",
   "metadata": {},
   "source": [
    "Thanks for you time...."
   ]
  },
  {
   "cell_type": "code",
   "execution_count": null,
   "id": "04850403",
   "metadata": {},
   "outputs": [],
   "source": []
  }
 ],
 "metadata": {
  "kernelspec": {
   "display_name": "Python 3 (ipykernel)",
   "language": "python",
   "name": "python3"
  },
  "language_info": {
   "codemirror_mode": {
    "name": "ipython",
    "version": 3
   },
   "file_extension": ".py",
   "mimetype": "text/x-python",
   "name": "python",
   "nbconvert_exporter": "python",
   "pygments_lexer": "ipython3",
   "version": "3.10.9"
  }
 },
 "nbformat": 4,
 "nbformat_minor": 5
}
